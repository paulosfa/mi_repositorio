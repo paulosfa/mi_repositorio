{
  "nbformat": 4,
  "nbformat_minor": 0,
  "metadata": {
    "colab": {
      "provenance": []
    },
    "kernelspec": {
      "name": "python3",
      "display_name": "Python 3"
    },
    "language_info": {
      "name": "python"
    }
  },
  "cells": [
    {
      "cell_type": "code",
      "execution_count": 1,
      "metadata": {
        "colab": {
          "base_uri": "https://localhost:8080/"
        },
        "id": "9Gx7GWWpkT8D",
        "outputId": "f0ad6955-1789-4cd0-b2a3-7b1e29cb3b6f"
      },
      "outputs": [
        {
          "output_type": "stream",
          "name": "stdout",
          "text": [
            "El tamaño de la cadena es: 18\n"
          ]
        }
      ],
      "source": [
        "cadena = \"Esta es una cadena\"\n",
        "contador = 0\n",
        "\n",
        "for caracter in cadena:\n",
        "    contador += 1\n",
        "\n",
        "print(\"El tamaño de la cadena es:\", contador)"
      ]
    },
    {
      "cell_type": "code",
      "source": [
        "cadena = \"trabajando.pe\"\n",
        "contador = 0\n",
        "\n",
        "for caracter in cadena:\n",
        "    contador += 1\n",
        "\n",
        "print(\"El número de caracteres en la cadena es:\", contador)"
      ],
      "metadata": {
        "colab": {
          "base_uri": "https://localhost:8080/"
        },
        "id": "M4qV49q5uIIR",
        "outputId": "4f1a6296-9038-41ae-dfbd-4b8ba3488844"
      },
      "execution_count": 2,
      "outputs": [
        {
          "output_type": "stream",
          "name": "stdout",
          "text": [
            "El número de caracteres en la cadena es: 13\n"
          ]
        }
      ]
    },
    {
      "cell_type": "code",
      "source": [
        "lista = ['a', 'b', 'c', 'a', 'c', 'c']\n",
        "lista_S_D = list(set(lista))\n",
        "\n",
        "print(\"Lista sin duplicados:\", lista_S_D)"
      ],
      "metadata": {
        "colab": {
          "base_uri": "https://localhost:8080/"
        },
        "id": "WAIGpJjPuc-E",
        "outputId": "b809a5f0-0b9f-4c04-f006-0c4926144b65"
      },
      "execution_count": 4,
      "outputs": [
        {
          "output_type": "stream",
          "name": "stdout",
          "text": [
            "Lista sin duplicados: ['c', 'a', 'b']\n"
          ]
        }
      ]
    },
    {
      "cell_type": "code",
      "source": [
        "n = 10\n",
        "# Parte ascendente del patrón\n",
        "for i in range(1, n + 1):\n",
        "    print('*' * i)\n",
        "\n",
        "# Parte descendente del patrón\n",
        "for i in range(n - 1, 0, -1):\n",
        "    print('*' * i)"
      ],
      "metadata": {
        "colab": {
          "base_uri": "https://localhost:8080/"
        },
        "id": "IPxtGcVcvCSv",
        "outputId": "d0853381-5356-40d3-f9b9-ef93e64e2a04"
      },
      "execution_count": 6,
      "outputs": [
        {
          "output_type": "stream",
          "name": "stdout",
          "text": [
            "*\n",
            "**\n",
            "***\n",
            "****\n",
            "*****\n",
            "******\n",
            "*******\n",
            "********\n",
            "*********\n",
            "**********\n",
            "*********\n",
            "********\n",
            "*******\n",
            "******\n",
            "*****\n",
            "****\n",
            "***\n",
            "**\n",
            "*\n"
          ]
        }
      ]
    },
    {
      "cell_type": "code",
      "source": [
        "def es_primo(numero):\n",
        "    # Un número menor que 2 no es primo\n",
        "    if numero < 2:\n",
        "        return False\n",
        "\n",
        "    # Verificar divisibilidad desde 2 hasta la raíz cuadrada del número\n",
        "    for i in range(2, int(numero ** 0.5) + 1):\n",
        "        if numero % i == 0:\n",
        "            return False\n",
        "\n",
        "    return True\n",
        "\n",
        "# Función para determinar si un número es primo y responder el resultado\n",
        "def determinar_primo(numero):\n",
        "    if es_primo(numero):\n",
        "        print(f\"{numero} es un número primo.\")\n",
        "    else:\n",
        "        print(f\"{numero} no es un número primo.\")\n",
        "\n",
        "numero = 8\n",
        "determinar_primo(numero)"
      ],
      "metadata": {
        "colab": {
          "base_uri": "https://localhost:8080/"
        },
        "id": "pSnY9u4bvZGD",
        "outputId": "90448146-a3fe-41a1-8611-5879615fe002"
      },
      "execution_count": 15,
      "outputs": [
        {
          "output_type": "stream",
          "name": "stdout",
          "text": [
            "8 no es un número primo.\n"
          ]
        }
      ]
    }
  ]
}